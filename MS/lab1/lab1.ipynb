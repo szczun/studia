{
 "cells": [
  {
   "cell_type": "code",
   "execution_count": 30,
   "metadata": {},
   "outputs": [
    {
     "name": "stdout",
     "output_type": "stream",
     "text": [
      "Średnia: 15.9\n",
      "Niepewność: 3.813717929323621\n"
     ]
    }
   ],
   "source": [
    "from scipy import stats\n",
    "import pandas as pd\n",
    "import numpy as np\n",
    "data = [10, 15, 12, 18, 20, 14, 16, 19, 22, 13]\n",
    "\n",
    "mean = stats.describe(data).mean\n",
    "\n",
    "uncertainty = stats.sem(data)\n",
    "\n",
    "print(f\"Średnia: {mean}\")\n",
    "print(f\"Niepewność: {uncertainty*np.sqrt(len(data))}\")"
   ]
  },
  {
   "cell_type": "code",
   "execution_count": 29,
   "metadata": {},
   "outputs": [
    {
     "name": "stdout",
     "output_type": "stream",
     "text": [
      "Średnia pandas: 0    15.9\n",
      "dtype: float64\n",
      "Niepewność pandas: 0    1.206004\n",
      "dtype: float64\n",
      "Niepewność pandas ddof = 1: 0    3.813718\n",
      "dtype: float64\n",
      "Niepewność pandas ddof = 0: 0    3.618011\n",
      "dtype: float64\n",
      "Niepewność pandas ddof = 0: 0    3.618011\n",
      "dtype: float64\n",
      "Średnia numpy: 15.9\n",
      "Odchylenie numpy: 3.6180105030251086\n",
      "Odchylenie numpy ddof 0: 3.6180105030251086\n",
      "Odchylenie numpy ddof 1: 3.8137179293236207\n"
     ]
    }
   ],
   "source": [
    "df = pd.DataFrame(data)\n",
    "mean_pandas = df.mean()\n",
    "uncertainty_pandas = df.sem()\n",
    "uncertainty_ddof1 = df.std(ddof=1)\n",
    "uncertainty_ddof0 = df.std(ddof=0)\n",
    "mean_numpy = np.mean(data)\n",
    "uncertainty_numpy = np.std(data)\n",
    "uncertainty_numpy_ddof0 = np.std(data, ddof=0)\n",
    "uncertainty_numpy_ddof1 = np.std(data, ddof=1)\n",
    "\n",
    "print(f\"Średnia pandas: {mean_pandas}\")\n",
    "print(f\"Niepewność pandas: {uncertainty_pandas}\")\n",
    "print(f\"Niepewność pandas ddof = 1: {uncertainty_ddof1}\")\n",
    "print(f\"Niepewność pandas ddof = 0: {uncertainty_ddof0}\")\n",
    "print(f\"Niepewność pandas ddof = 0: {uncertainty_ddof0}\")\n",
    "print(f\"Średnia numpy: {mean_numpy}\")\n",
    "print(f\"Odchylenie numpy: {uncertainty_numpy}\")\n",
    "print(f\"Odchylenie numpy ddof 0: {uncertainty_numpy_ddof0}\")\n",
    "print(f\"Odchylenie numpy ddof 1: {uncertainty_numpy_ddof1}\")"
   ]
  },
  {
   "cell_type": "code",
   "execution_count": 31,
   "metadata": {},
   "outputs": [
    {
     "name": "stdout",
     "output_type": "stream",
     "text": [
      "Wartosc statystyki: 0.6026845771641863\n",
      "Wartosc p-value: 0.5634083749194694\n"
     ]
    }
   ],
   "source": [
    "from scipy import stats\n",
    "\n",
    "group1 = [78, 84, 85, 79, 81]\n",
    "group2 = [75, 82, 88, 73, 80]\n",
    "\n",
    "t_statistic, p_value = stats.ttest_ind(group1, group2)\n",
    "\n",
    "print(f\"Wartosc statystyki: {t_statistic}\")\n",
    "print(f\"Wartosc p-value: {p_value}\")"
   ]
  },
  {
   "cell_type": "code",
   "execution_count": 34,
   "metadata": {},
   "outputs": [
    {
     "name": "stdout",
     "output_type": "stream",
     "text": [
      "Chi-kwadrat statystyka: 2.15\n",
      "Wartosc p: 0.3412977553009937\n"
     ]
    }
   ],
   "source": [
    "observed = [25, 16, 9]\n",
    "expected = [20, 20, 10]\n",
    "\n",
    "chi_s, p_val = stats.chisquare(observed, expected)\n",
    "\n",
    "print(f\"Chi-kwadrat statystyka: {chi_s}\")\n",
    "print(f\"Wartosc p: {p_val}\")"
   ]
  }
 ],
 "metadata": {
  "kernelspec": {
   "display_name": "base",
   "language": "python",
   "name": "python3"
  },
  "language_info": {
   "codemirror_mode": {
    "name": "ipython",
    "version": 3
   },
   "file_extension": ".py",
   "mimetype": "text/x-python",
   "name": "python",
   "nbconvert_exporter": "python",
   "pygments_lexer": "ipython3",
   "version": "3.12.7"
  }
 },
 "nbformat": 4,
 "nbformat_minor": 2
}
