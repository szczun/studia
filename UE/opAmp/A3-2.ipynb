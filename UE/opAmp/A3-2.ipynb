{
 "cells": [
  {
   "cell_type": "code",
   "execution_count": 95,
   "metadata": {},
   "outputs": [],
   "source": [
    "import matplotlib.pyplot as plt\n",
    "import numpy as np\n",
    "import pandas as pd\n",
    "import scienceplots\n",
    "from scipy import stats"
   ]
  },
  {
   "cell_type": "code",
   "execution_count": 96,
   "metadata": {},
   "outputs": [],
   "source": [
    "plt.style.use(['science', 'notebook', 'grid'])"
   ]
  },
  {
   "cell_type": "code",
   "execution_count": 97,
   "metadata": {},
   "outputs": [
    {
     "data": {
      "text/html": [
       "<div>\n",
       "<style scoped>\n",
       "    .dataframe tbody tr th:only-of-type {\n",
       "        vertical-align: middle;\n",
       "    }\n",
       "\n",
       "    .dataframe tbody tr th {\n",
       "        vertical-align: top;\n",
       "    }\n",
       "\n",
       "    .dataframe thead th {\n",
       "        text-align: right;\n",
       "    }\n",
       "</style>\n",
       "<table border=\"1\" class=\"dataframe\">\n",
       "  <thead>\n",
       "    <tr style=\"text-align: right;\">\n",
       "      <th></th>\n",
       "      <th>U1</th>\n",
       "      <th>f</th>\n",
       "      <th>U2</th>\n",
       "      <th>Wzmocnienie</th>\n",
       "      <th>cutoff</th>\n",
       "      <th>GBW</th>\n",
       "    </tr>\n",
       "  </thead>\n",
       "  <tbody>\n",
       "    <tr>\n",
       "      <th>0</th>\n",
       "      <td>0.10175</td>\n",
       "      <td>100</td>\n",
       "      <td>1.095000</td>\n",
       "      <td>10.761671</td>\n",
       "      <td>NaN</td>\n",
       "      <td>NaN</td>\n",
       "    </tr>\n",
       "    <tr>\n",
       "      <th>1</th>\n",
       "      <td>0.10175</td>\n",
       "      <td>200</td>\n",
       "      <td>1.095000</td>\n",
       "      <td>10.761671</td>\n",
       "      <td>NaN</td>\n",
       "      <td>NaN</td>\n",
       "    </tr>\n",
       "    <tr>\n",
       "      <th>2</th>\n",
       "      <td>0.10175</td>\n",
       "      <td>300</td>\n",
       "      <td>1.095000</td>\n",
       "      <td>10.761671</td>\n",
       "      <td>NaN</td>\n",
       "      <td>NaN</td>\n",
       "    </tr>\n",
       "    <tr>\n",
       "      <th>3</th>\n",
       "      <td>0.10175</td>\n",
       "      <td>600</td>\n",
       "      <td>1.095000</td>\n",
       "      <td>10.761671</td>\n",
       "      <td>NaN</td>\n",
       "      <td>NaN</td>\n",
       "    </tr>\n",
       "    <tr>\n",
       "      <th>4</th>\n",
       "      <td>0.10175</td>\n",
       "      <td>1000</td>\n",
       "      <td>1.095000</td>\n",
       "      <td>10.761671</td>\n",
       "      <td>NaN</td>\n",
       "      <td>NaN</td>\n",
       "    </tr>\n",
       "    <tr>\n",
       "      <th>5</th>\n",
       "      <td>0.10175</td>\n",
       "      <td>2000</td>\n",
       "      <td>1.095000</td>\n",
       "      <td>10.761671</td>\n",
       "      <td>NaN</td>\n",
       "      <td>NaN</td>\n",
       "    </tr>\n",
       "    <tr>\n",
       "      <th>6</th>\n",
       "      <td>0.10175</td>\n",
       "      <td>3000</td>\n",
       "      <td>1.095000</td>\n",
       "      <td>10.761671</td>\n",
       "      <td>NaN</td>\n",
       "      <td>NaN</td>\n",
       "    </tr>\n",
       "    <tr>\n",
       "      <th>7</th>\n",
       "      <td>0.10175</td>\n",
       "      <td>6000</td>\n",
       "      <td>1.095000</td>\n",
       "      <td>10.761671</td>\n",
       "      <td>NaN</td>\n",
       "      <td>NaN</td>\n",
       "    </tr>\n",
       "    <tr>\n",
       "      <th>8</th>\n",
       "      <td>0.10175</td>\n",
       "      <td>10000</td>\n",
       "      <td>1.095000</td>\n",
       "      <td>10.761671</td>\n",
       "      <td>NaN</td>\n",
       "      <td>NaN</td>\n",
       "    </tr>\n",
       "    <tr>\n",
       "      <th>9</th>\n",
       "      <td>0.10175</td>\n",
       "      <td>20000</td>\n",
       "      <td>1.062500</td>\n",
       "      <td>10.442260</td>\n",
       "      <td>NaN</td>\n",
       "      <td>NaN</td>\n",
       "    </tr>\n",
       "    <tr>\n",
       "      <th>10</th>\n",
       "      <td>0.10175</td>\n",
       "      <td>30000</td>\n",
       "      <td>0.999250</td>\n",
       "      <td>9.820639</td>\n",
       "      <td>NaN</td>\n",
       "      <td>NaN</td>\n",
       "    </tr>\n",
       "    <tr>\n",
       "      <th>11</th>\n",
       "      <td>0.10175</td>\n",
       "      <td>60000</td>\n",
       "      <td>0.805000</td>\n",
       "      <td>7.911548</td>\n",
       "      <td>NaN</td>\n",
       "      <td>NaN</td>\n",
       "    </tr>\n",
       "    <tr>\n",
       "      <th>12</th>\n",
       "      <td>0.10175</td>\n",
       "      <td>100000</td>\n",
       "      <td>0.592000</td>\n",
       "      <td>5.818182</td>\n",
       "      <td>NaN</td>\n",
       "      <td>NaN</td>\n",
       "    </tr>\n",
       "    <tr>\n",
       "      <th>13</th>\n",
       "      <td>0.10175</td>\n",
       "      <td>200000</td>\n",
       "      <td>0.332500</td>\n",
       "      <td>3.267813</td>\n",
       "      <td>NaN</td>\n",
       "      <td>NaN</td>\n",
       "    </tr>\n",
       "    <tr>\n",
       "      <th>14</th>\n",
       "      <td>0.10175</td>\n",
       "      <td>300000</td>\n",
       "      <td>0.218750</td>\n",
       "      <td>2.149877</td>\n",
       "      <td>NaN</td>\n",
       "      <td>NaN</td>\n",
       "    </tr>\n",
       "    <tr>\n",
       "      <th>15</th>\n",
       "      <td>0.10175</td>\n",
       "      <td>600000</td>\n",
       "      <td>0.108125</td>\n",
       "      <td>1.062654</td>\n",
       "      <td>NaN</td>\n",
       "      <td>NaN</td>\n",
       "    </tr>\n",
       "    <tr>\n",
       "      <th>16</th>\n",
       "      <td>0.10175</td>\n",
       "      <td>1000000</td>\n",
       "      <td>0.055500</td>\n",
       "      <td>0.545455</td>\n",
       "      <td>NaN</td>\n",
       "      <td>NaN</td>\n",
       "    </tr>\n",
       "    <tr>\n",
       "      <th>17</th>\n",
       "      <td>0.10175</td>\n",
       "      <td>2000000</td>\n",
       "      <td>0.024750</td>\n",
       "      <td>0.243243</td>\n",
       "      <td>NaN</td>\n",
       "      <td>NaN</td>\n",
       "    </tr>\n",
       "    <tr>\n",
       "      <th>18</th>\n",
       "      <td>0.10175</td>\n",
       "      <td>3000000</td>\n",
       "      <td>0.013575</td>\n",
       "      <td>0.133415</td>\n",
       "      <td>NaN</td>\n",
       "      <td>NaN</td>\n",
       "    </tr>\n",
       "  </tbody>\n",
       "</table>\n",
       "</div>"
      ],
      "text/plain": [
       "         U1        f        U2  Wzmocnienie  cutoff  GBW\n",
       "0   0.10175      100  1.095000    10.761671     NaN  NaN\n",
       "1   0.10175      200  1.095000    10.761671     NaN  NaN\n",
       "2   0.10175      300  1.095000    10.761671     NaN  NaN\n",
       "3   0.10175      600  1.095000    10.761671     NaN  NaN\n",
       "4   0.10175     1000  1.095000    10.761671     NaN  NaN\n",
       "5   0.10175     2000  1.095000    10.761671     NaN  NaN\n",
       "6   0.10175     3000  1.095000    10.761671     NaN  NaN\n",
       "7   0.10175     6000  1.095000    10.761671     NaN  NaN\n",
       "8   0.10175    10000  1.095000    10.761671     NaN  NaN\n",
       "9   0.10175    20000  1.062500    10.442260     NaN  NaN\n",
       "10  0.10175    30000  0.999250     9.820639     NaN  NaN\n",
       "11  0.10175    60000  0.805000     7.911548     NaN  NaN\n",
       "12  0.10175   100000  0.592000     5.818182     NaN  NaN\n",
       "13  0.10175   200000  0.332500     3.267813     NaN  NaN\n",
       "14  0.10175   300000  0.218750     2.149877     NaN  NaN\n",
       "15  0.10175   600000  0.108125     1.062654     NaN  NaN\n",
       "16  0.10175  1000000  0.055500     0.545455     NaN  NaN\n",
       "17  0.10175  2000000  0.024750     0.243243     NaN  NaN\n",
       "18  0.10175  3000000  0.013575     0.133415     NaN  NaN"
      ]
     },
     "execution_count": 97,
     "metadata": {},
     "output_type": "execute_result"
    }
   ],
   "source": [
    "data = pd.read_excel('UELab2.xlsx', sheet_name = '2 a)')\n",
    "inputVoltage = data['U1']\n",
    "outputVoltage = data['U2']\n",
    "frequency = data['f']\n",
    "data"
   ]
  },
  {
   "cell_type": "code",
   "execution_count": 98,
   "metadata": {},
   "outputs": [],
   "source": [
    "amplification = 20*np.log10(outputVoltage/inputVoltage)\n",
    "maxAmplification = np.max(amplification[:9])\n",
    "_3dbLvl = maxAmplification - 3"
   ]
  },
  {
   "cell_type": "code",
   "execution_count": 99,
   "metadata": {},
   "outputs": [
    {
     "name": "stdout",
     "output_type": "stream",
     "text": [
      "Cutoff frequency: 78644.21268382473\n"
     ]
    },
    {
     "data": {
      "text/plain": [
       "LinregressResult(slope=-21.0884006082052, intercept=120.87937609494088, rvalue=-0.994231700927567, pvalue=4.777520537046689e-07, stderr=0.9287356233488948, intercept_stderr=5.263703024345201)"
      ]
     },
     "execution_count": 99,
     "metadata": {},
     "output_type": "execute_result"
    }
   ],
   "source": [
    "linFit = stats.linregress(np.log10(frequency[11:]), amplification[11:])\n",
    "cutoff = (_3dbLvl - linFit.intercept)/linFit.slope\n",
    "print(f'Cutoff frequency: {10 ** cutoff}')\n",
    "linFit"
   ]
  },
  {
   "cell_type": "code",
   "execution_count": 100,
   "metadata": {},
   "outputs": [
    {
     "name": "stdout",
     "output_type": "stream",
     "text": [
      "Slope: -0.058052848469076185\n",
      "Intercept: 20.793788763905535\n",
      "Wzmocnienie: 10.956943903684296\n"
     ]
    }
   ],
   "source": [
    "linFitFlat = stats.linregress(np.log10(frequency[:10]), amplification[:10])\n",
    "print(f'Slope: {linFitFlat.slope}\\nIntercept: {linFitFlat.intercept}\\nWzmocnienie: {10 ** (linFitFlat.intercept/20)}')"
   ]
  },
  {
   "cell_type": "code",
   "execution_count": 101,
   "metadata": {},
   "outputs": [],
   "source": [
    "from scipy.optimize import curve_fit"
   ]
  },
  {
   "cell_type": "code",
   "execution_count": 102,
   "metadata": {},
   "outputs": [],
   "source": [
    "def characteristicFun(f, fc):\n",
    "    return maxAmplification - 20*np.log10((np.sqrt(1 + (f/fc)**2)))"
   ]
  },
  {
   "cell_type": "code",
   "execution_count": 103,
   "metadata": {},
   "outputs": [
    {
     "data": {
      "text/plain": [
       "array([53302.38809015])"
      ]
     },
     "execution_count": 103,
     "metadata": {},
     "output_type": "execute_result"
    }
   ],
   "source": [
    "popt, _ = curve_fit(characteristicFun, xdata = frequency, ydata=amplification)\n",
    "popt"
   ]
  },
  {
   "cell_type": "code",
   "execution_count": 107,
   "metadata": {},
   "outputs": [
    {
     "data": {
      "text/plain": [
       "Text(0, 0.5, 'Wzmocnienie [dB]')"
      ]
     },
     "execution_count": 107,
     "metadata": {},
     "output_type": "execute_result"
    },
    {
     "data": {
      "image/png": "[encoded data removed]",
      "text/plain": [
       "<Figure size 800x600 with 1 Axes>"
      ]
     },
     "metadata": {},
     "output_type": "display_data"
    }
   ],
   "source": [
    "fig, ax = plt.subplots(1, 1)\n",
    "ax.semilogx(frequency/1000, amplification, 'o', markersize = 6)\n",
    "ax.semilogx(frequency[11:]/1000, np.log10(frequency[11:])*linFit.slope + linFit.intercept, color = 'green', linewidth = 3)\n",
    "ax.semilogx(frequency[:10]/1000, np.log10(frequency[0:10])*linFitFlat.slope + linFitFlat.intercept, color = '#ff8413', linewidth = 3)\n",
    "ax.axhline(y = _3dbLvl, linestyle = '--', color = 'red')\n",
    "ax.set_xlabel('Częstotliwość w skali logarytmicznej [kHz]')\n",
    "ax.set_ylabel('Wzmocnienie [dB]')"
   ]
  },
  {
   "cell_type": "code",
   "execution_count": 105,
   "metadata": {},
   "outputs": [
    {
     "name": "stdout",
     "output_type": "stream",
     "text": [
      "Cutoff katalog: 90909.09090909091\n"
     ]
    }
   ],
   "source": [
    "teoAmp = 20*np.log10(11)\n",
    "teoAmp = teoAmp - 3\n",
    "\n",
    "print(f'Cutoff katalog: {1000000/11}')\n"
   ]
  }
 ],
 "metadata": {
  "kernelspec": {
   "display_name": "Python 3",
   "language": "python",
   "name": "python3"
  },
  "language_info": {
   "codemirror_mode": {
    "name": "ipython",
    "version": 3
   },
   "file_extension": ".py",
   "mimetype": "text/x-python",
   "name": "python",
   "nbconvert_exporter": "python",
   "pygments_lexer": "ipython3",
   "version": "3.11.7"
  }
 },
 "nbformat": 4,
 "nbformat_minor": 2
}
