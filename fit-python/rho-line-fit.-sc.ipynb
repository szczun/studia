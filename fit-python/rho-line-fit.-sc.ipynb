{
 "cells": [
  {
   "cell_type": "code",
   "execution_count": 91,
   "metadata": {},
   "outputs": [],
   "source": [
    "import numpy as np\n",
    "from matplotlib import pyplot as plt\n",
    "from iminuit import Minuit, cost\n",
    "import pandas as pd"
   ]
  },
  {
   "cell_type": "code",
   "execution_count": 92,
   "metadata": {},
   "outputs": [],
   "source": [
    "RESONANCE_MASS = 0.775\n",
    "GAMMA_RESONANCE = 0.149\n",
    "PION_MASS = 0.140"
   ]
  },
  {
   "cell_type": "markdown",
   "metadata": {},
   "source": [
    "$$M_{\\pi^{+}\\pi^{-}} = (E_{\\pi^{+}} + E_{\\pi^{-}})^{2} - (\\vec{p}_{\\pi^{+}} + \\vec{p}_{\\pi^{-}})^{2}$$"
   ]
  },
  {
   "cell_type": "code",
   "execution_count": 93,
   "metadata": {},
   "outputs": [],
   "source": [
    "# funkcja Källén'a\n",
    "# fMass - masa pierwszej cząstki\n",
    "# sMass - masa drugiej cząstki\n",
    "def Lambda(M_pipi, fMass, sMass):\n",
    "    return (M_pipi**2 + fMass**2 + sMass **2) - 2*(M_pipi*fMass+M_pipi*sMass+sMass*fMass)"
   ]
  },
  {
   "cell_type": "code",
   "execution_count": 94,
   "metadata": {},
   "outputs": [],
   "source": [
    "# Gamma w przypadku rezonansu rho(770) zmienia się wraz z masą M_pipi\n",
    "# q to pęd w układzie środka masy\n",
    "def Gamma(M_pipi, GAMMA_RESONANCE = GAMMA_RESONANCE):\n",
    "    def q(M_pipi, pionMass):\n",
    "        return np.sqrt((M_pipi**2)/4 - pionMass**2)\n",
    "    return GAMMA_RESONANCE*(q(M_pipi, PION_MASS)/q(RESONANCE_MASS, PION_MASS)**3 * 2./(1.+(q(M_pipi, PION_MASS)/q(RESONANCE_MASS, PION_MASS))**2))\n"
   ]
  },
  {
   "cell_type": "markdown",
   "metadata": {},
   "source": [
    "Obie funkcje BW oraz BWM to funkcje Breita-Wignera, BWM jest jej rozszerzoną wersją\n",
    "gdzie dodatkowo uwzględniana jest temperatura oraz parametr BETA kontrolujący wpływ\n",
    "temperatury. Gdy za BETE i T damy wartość równą 0 dostaniemy 1 bo jest eksponenta\n",
    "w efekcie dostaniemy BW\n",
    "\n",
    "$$M_{R} - \\text{masa rezonansu}$$"
   ]
  },
  {
   "cell_type": "code",
   "execution_count": 95,
   "metadata": {},
   "outputs": [],
   "source": [
    "# Obie funkcje BW oraz BWM to funkcje Breita-Wignera, BWM jest jej rozszerzoną wersją\n",
    "# gdzie dodatkowo uwzględniana jest temperatura oraz parametr BETA kontrolujący wpływ\n",
    "# temperatury. Gdy za BETE i T damy wartość równą 0 dostaniemy 1 bo jest eksponenta\n",
    "# w efekcie dostaniemy BW\n",
    "def Breit_Wigner(RESONANCE_MASS, GAMMA_RESONANCE, M_pipi, T = 0, BETA = 0):\n",
    "    return np.exp(BETA*T)/(RESONANCE_MASS**2 - M_pipi**2 - 1j*RESONANCE_MASS*Gamma(M_pipi, GAMMA_RESONANCE))"
   ]
  },
  {
   "cell_type": "code",
   "execution_count": 96,
   "metadata": {},
   "outputs": [],
   "source": [
    "# A jest jakimś parametrem, Lips - lorentz invariant phase space\n",
    "def Lips(A, M_pipi):\n",
    "    return A*np.sqrt(Lambda(M_pipi**2, PION_MASS**2, PION_MASS**2))/M_pipi"
   ]
  },
  {
   "cell_type": "code",
   "execution_count": 97,
   "metadata": {},
   "outputs": [],
   "source": [
    "# faza Breit-Wignera\n",
    "def BWPHASE(M_pipi, RESONANCE_MASS, GAMMA_RESONANCE):\n",
    "    return np.arctan2(Gamma(M_pipi, GAMMA_RESONANCE)*RESONANCE_MASS, (RESONANCE_MASS**2 - M_pipi**2))\n",
    "\n",
    "# Tpipi czynnik fazowy\n",
    "\n",
    "def Tpipi(M_pipi, RESONANCE_MASS, GAMMA_RESONANCE):\n",
    "    return 0.5*(np.exp(2j*BWPHASE(M_pipi, RESONANCE_MASS, GAMMA_RESONANCE))-1.)"
   ]
  },
  {
   "cell_type": "code",
   "execution_count": 98,
   "metadata": {},
   "outputs": [],
   "source": [
    "def background(M_pipi, B, C, D, RESONANCE_MASS, GAMMA_RESONANCE, E = 1, F = 0, G = 0, T = 0, BETA = 0):\n",
    "    return(1.+Tpipi(M_pipi, RESONANCE_MASS, GAMMA_RESONANCE))*(B+C*M_pipi)/(1+D*M_pipi)*(E+F*T+G*T**2)*np.exp(BETA*T)"
   ]
  },
  {
   "cell_type": "code",
   "execution_count": 99,
   "metadata": {},
   "outputs": [],
   "source": [
    "def intensity(M_pipi, A, B, C, D, RESONANCE_MASS, GAMMA_RESONANCE, PHI):\n",
    "    return Lips(A, M_pipi)*abs(Breit_Wigner(RESONANCE_MASS, GAMMA_RESONANCE, M_pipi)+np.exp(1j*PHI)*background(M_pipi, B, C, D, RESONANCE_MASS, GAMMA_RESONANCE))**2"
   ]
  },
  {
   "cell_type": "code",
   "execution_count": 100,
   "metadata": {},
   "outputs": [],
   "source": [
    "df=pd.read_csv(\"moments/Y00-e3.2-3.4.dat\",sep=\"\\s+\",comment=\"#\",header=None,names=[\"-t\",\"mpipi\",\"Y00\",\"dY00\"])\n",
    "\n",
    "df=df[df[\"mpipi\"]<=1.2]\n",
    " \n",
    "Y45=df[df[\"-t\"]==0.45]\n",
    "Y55=df[df[\"-t\"]==0.55]\n",
    "Y65=df[df[\"-t\"]==0.65]\n",
    "Y75=df[df[\"-t\"]==0.75]\n",
    "Y85=df[df[\"-t\"]==0.85]\n",
    "Y95=df[df[\"-t\"]==0.95]"
   ]
  },
  {
   "cell_type": "code",
   "execution_count": 102,
   "metadata": {},
   "outputs": [
    {
     "ename": "RuntimeError",
     "evalue": "Function minimum is not valid: <FMin algorithm='Migrad' edm=9.4838802075196 edm_goal=0.0002 errordef=1.0 fval=484.053034552116 has_accurate_covar=False has_covariance=True has_made_posdef_covar=False has_parameters_at_limit=False has_posdef_covar=True has_reached_call_limit=True has_valid_parameters=False hesse_failed=False is_above_max_edm=False is_valid=False nfcn=1149 ngrad=0 reduced_chi2=6.630863487015287 time=0.125>",
     "output_type": "error",
     "traceback": [
      "\u001b[1;31m---------------------------------------------------------------------------\u001b[0m",
      "\u001b[1;31mRuntimeError\u001b[0m                              Traceback (most recent call last)",
      "Cell \u001b[1;32mIn[102], line 4\u001b[0m\n\u001b[0;32m      2\u001b[0m m1 \u001b[38;5;241m=\u001b[39m Minuit(c, A\u001b[38;5;241m=\u001b[39m\u001b[38;5;241m0.\u001b[39m,B\u001b[38;5;241m=\u001b[39m\u001b[38;5;241m0.\u001b[39m,C\u001b[38;5;241m=\u001b[39m\u001b[38;5;241m0.\u001b[39m,D\u001b[38;5;241m=\u001b[39m\u001b[38;5;241m0.\u001b[39m,RESONANCE_MASS\u001b[38;5;241m=\u001b[39m\u001b[38;5;241m.8\u001b[39m,GAMMA_RESONANCE\u001b[38;5;241m=\u001b[39m\u001b[38;5;241m.2\u001b[39m,PHI\u001b[38;5;241m=\u001b[39m\u001b[38;5;241m0\u001b[39m)\n\u001b[0;32m      3\u001b[0m m1\u001b[38;5;241m.\u001b[39mmigrad()\n\u001b[1;32m----> 4\u001b[0m m1\u001b[38;5;241m.\u001b[39mminos()\n",
      "File \u001b[1;32mf:\\Anaconda\\Lib\\site-packages\\iminuit\\minuit.py:1518\u001b[0m, in \u001b[0;36mMinuit.minos\u001b[1;34m(self, cl, ncall, *parameters)\u001b[0m\n\u001b[0;32m   1515\u001b[0m fm \u001b[38;5;241m=\u001b[39m \u001b[38;5;28mself\u001b[39m\u001b[38;5;241m.\u001b[39m_fmin\u001b[38;5;241m.\u001b[39m_src\n\u001b[0;32m   1517\u001b[0m \u001b[38;5;28;01mif\u001b[39;00m \u001b[38;5;129;01mnot\u001b[39;00m \u001b[38;5;28mself\u001b[39m\u001b[38;5;241m.\u001b[39mvalid:\n\u001b[1;32m-> 1518\u001b[0m     \u001b[38;5;28;01mraise\u001b[39;00m \u001b[38;5;167;01mRuntimeError\u001b[39;00m(\u001b[38;5;124mf\u001b[39m\u001b[38;5;124m\"\u001b[39m\u001b[38;5;124mFunction minimum is not valid: \u001b[39m\u001b[38;5;132;01m{\u001b[39;00m\u001b[38;5;28mrepr\u001b[39m(\u001b[38;5;28mself\u001b[39m\u001b[38;5;241m.\u001b[39m_fmin)\u001b[38;5;132;01m}\u001b[39;00m\u001b[38;5;124m\"\u001b[39m)\n\u001b[0;32m   1520\u001b[0m \u001b[38;5;28;01mif\u001b[39;00m \u001b[38;5;28mlen\u001b[39m(parameters) \u001b[38;5;241m==\u001b[39m \u001b[38;5;241m0\u001b[39m:\n\u001b[0;32m   1521\u001b[0m     ipars \u001b[38;5;241m=\u001b[39m [ipar \u001b[38;5;28;01mfor\u001b[39;00m ipar \u001b[38;5;129;01min\u001b[39;00m \u001b[38;5;28mrange\u001b[39m(\u001b[38;5;28mself\u001b[39m\u001b[38;5;241m.\u001b[39mnpar) \u001b[38;5;28;01mif\u001b[39;00m \u001b[38;5;129;01mnot\u001b[39;00m \u001b[38;5;28mself\u001b[39m\u001b[38;5;241m.\u001b[39mfixed[ipar]]\n",
      "\u001b[1;31mRuntimeError\u001b[0m: Function minimum is not valid: <FMin algorithm='Migrad' edm=9.4838802075196 edm_goal=0.0002 errordef=1.0 fval=484.053034552116 has_accurate_covar=False has_covariance=True has_made_posdef_covar=False has_parameters_at_limit=False has_posdef_covar=True has_reached_call_limit=True has_valid_parameters=False hesse_failed=False is_above_max_edm=False is_valid=False nfcn=1149 ngrad=0 reduced_chi2=6.630863487015287 time=0.125>"
     ]
    }
   ],
   "source": [
    "c = cost.LeastSquares(Y45[\"mpipi\"], Y45[\"Y00\"], Y45[\"dY00\"], intensity)\n",
    "m1 = Minuit(c, A=0.,B=0.,C=0.,D=0.,RESONANCE_MASS=.8,GAMMA_RESONANCE=.2,PHI=0)\n",
    "m1.migrad()\n",
    "m1.minos()"
   ]
  }
 ],
 "metadata": {
  "kernelspec": {
   "display_name": "Python 3",
   "language": "python",
   "name": "python3"
  },
  "language_info": {
   "codemirror_mode": {
    "name": "ipython",
    "version": 3
   },
   "file_extension": ".py",
   "mimetype": "text/x-python",
   "name": "python",
   "nbconvert_exporter": "python",
   "pygments_lexer": "ipython3",
   "version": "3.11.7"
  }
 },
 "nbformat": 4,
 "nbformat_minor": 2
}
