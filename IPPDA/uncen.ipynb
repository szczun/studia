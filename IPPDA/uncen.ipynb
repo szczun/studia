{
 "cells": [
  {
   "cell_type": "code",
   "execution_count": 6,
   "metadata": {},
   "outputs": [],
   "source": [
    "N_bkg_lepptsyst = 8585.67\n",
    "N_bkg_nom = 8586.91818\n",
    "N_signal = 128.691496867\n",
    "\n",
    "import numpy as np"
   ]
  },
  {
   "cell_type": "code",
   "execution_count": 11,
   "metadata": {},
   "outputs": [
    {
     "name": "stdout",
     "output_type": "stream",
     "text": [
      "Syst uncertainty: 0.00010094584282005492\n",
      "Stat uncertainty: 0.12242109614490031\n"
     ]
    }
   ],
   "source": [
    "significant_lepptsyst = N_signal/np.sqrt(N_bkg_lepptsyst)\n",
    "significant_nom = N_signal/np.sqrt(N_bkg_nom)\n",
    "\n",
    "stat_uncertainty = np.sqrt(N_signal/N_bkg_nom)\n",
    "syst_uncertainty = abs(significant_lepptsyst - significant_nom)\n",
    "print(f\"Syst uncertainty: {syst_uncertainty}\")\n",
    "print(f\"Stat uncertainty: {stat_uncertainty}\")"
   ]
  },
  {
   "cell_type": "code",
   "execution_count": null,
   "metadata": {},
   "outputs": [],
   "source": []
  }
 ],
 "metadata": {
  "kernelspec": {
   "display_name": "Python 3",
   "language": "python",
   "name": "python3"
  },
  "language_info": {
   "codemirror_mode": {
    "name": "ipython",
    "version": 3
   },
   "file_extension": ".py",
   "mimetype": "text/x-python",
   "name": "python",
   "nbconvert_exporter": "python",
   "pygments_lexer": "ipython3",
   "version": "3.11.7"
  }
 },
 "nbformat": 4,
 "nbformat_minor": 2
}
